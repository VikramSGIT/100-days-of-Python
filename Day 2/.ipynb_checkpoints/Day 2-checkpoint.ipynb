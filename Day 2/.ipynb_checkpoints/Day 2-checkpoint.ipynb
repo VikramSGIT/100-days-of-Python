{
 "cells": [
  {
   "cell_type": "code",
   "execution_count": 9,
   "id": "377bddc4",
   "metadata": {},
   "outputs": [],
   "source": [
    "lst=['vikram', 1, 2]"
   ]
  },
  {
   "cell_type": "code",
   "execution_count": 10,
   "id": "a1a0dfa3",
   "metadata": {},
   "outputs": [
    {
     "data": {
      "text/plain": [
       "['vikram', 1, 2]"
      ]
     },
     "execution_count": 10,
     "metadata": {},
     "output_type": "execute_result"
    }
   ],
   "source": [
    "lst"
   ]
  },
  {
   "cell_type": "code",
   "execution_count": 11,
   "id": "8bdf9157",
   "metadata": {},
   "outputs": [
    {
     "ename": "TypeError",
     "evalue": "unsupported operand type(s) for +: 'int' and 'str'",
     "output_type": "error",
     "traceback": [
      "\u001b[1;31m---------------------------------------------------------------------------\u001b[0m",
      "\u001b[1;31mTypeError\u001b[0m                                 Traceback (most recent call last)",
      "\u001b[1;32m<ipython-input-11-de86c5632935>\u001b[0m in \u001b[0;36m<module>\u001b[1;34m\u001b[0m\n\u001b[1;32m----> 1\u001b[1;33m \u001b[0msum\u001b[0m\u001b[1;33m(\u001b[0m\u001b[0mlst\u001b[0m\u001b[1;33m)\u001b[0m\u001b[1;33m\u001b[0m\u001b[1;33m\u001b[0m\u001b[0m\n\u001b[0m",
      "\u001b[1;31mTypeError\u001b[0m: unsupported operand type(s) for +: 'int' and 'str'"
     ]
    }
   ],
   "source": [
    "sum(lst)"
   ]
  },
  {
   "cell_type": "code",
   "execution_count": null,
   "id": "f4af6b1f",
   "metadata": {},
   "outputs": [],
   "source": [
    "lst.pop(0)\n",
    "sum(lst)"
   ]
  },
  {
   "cell_type": "code",
   "execution_count": null,
   "id": "a0dc0214",
   "metadata": {},
   "outputs": [],
   "source": [
    "lst.append(1)"
   ]
  },
  {
   "cell_type": "code",
   "execution_count": null,
   "id": "3a6682df",
   "metadata": {},
   "outputs": [],
   "source": [
    "lst"
   ]
  },
  {
   "cell_type": "code",
   "execution_count": null,
   "id": "fc32374f",
   "metadata": {},
   "outputs": [],
   "source": [
    "lst.sort()\n",
    "lst"
   ]
  },
  {
   "cell_type": "code",
   "execution_count": 12,
   "id": "aa94a8ce",
   "metadata": {},
   "outputs": [
    {
     "data": {
      "text/plain": [
       "{'apple'}"
      ]
     },
     "execution_count": 12,
     "metadata": {},
     "output_type": "execute_result"
    }
   ],
   "source": [
    "set_1 = {\"apple\", \"orange\", \"mango\"}\n",
    "set_2 = {\"orange\", \"mango\"}\n",
    "set_1.difference(set_2)"
   ]
  },
  {
   "cell_type": "code",
   "execution_count": 13,
   "id": "89e89ca4",
   "metadata": {},
   "outputs": [
    {
     "data": {
      "text/plain": [
       "dict"
      ]
     },
     "execution_count": 13,
     "metadata": {},
     "output_type": "execute_result"
    }
   ],
   "source": [
    "dic = {\"home\":\"erode\", \"uni\":\"karnataka\", \"state\":\"tn\"}\n",
    "type(dic)"
   ]
  },
  {
   "cell_type": "code",
   "execution_count": 14,
   "id": "793b808a",
   "metadata": {},
   "outputs": [
    {
     "name": "stdout",
     "output_type": "stream",
     "text": [
      "<class 'tuple'>\n",
      "<class 'tuple'>\n",
      "<class 'tuple'>\n"
     ]
    }
   ],
   "source": [
    "for x in dic.items():\n",
    "    print(type(x))"
   ]
  },
  {
   "cell_type": "code",
   "execution_count": 15,
   "id": "e42a575f",
   "metadata": {},
   "outputs": [
    {
     "name": "stdout",
     "output_type": "stream",
     "text": [
      "('hey', 'hru')\n"
     ]
    }
   ],
   "source": [
    "tpl = (\"hey\", \"hru\")\n",
    "print(tpl)"
   ]
  },
  {
   "cell_type": "code",
   "execution_count": null,
   "id": "f63471bc",
   "metadata": {},
   "outputs": [],
   "source": []
  }
 ],
 "metadata": {
  "kernelspec": {
   "display_name": "Python 3",
   "language": "python",
   "name": "python3"
  },
  "language_info": {
   "codemirror_mode": {
    "name": "ipython",
    "version": 3
   },
   "file_extension": ".py",
   "mimetype": "text/x-python",
   "name": "python",
   "nbconvert_exporter": "python",
   "pygments_lexer": "ipython3",
   "version": "3.8.8"
  }
 },
 "nbformat": 4,
 "nbformat_minor": 5
}
